{
  "nbformat": 4,
  "nbformat_minor": 0,
  "metadata": {
    "colab": {
      "name": "GopisettyNagendra.ipynb",
      "provenance": []
    },
    "kernelspec": {
      "name": "python3",
      "display_name": "Python 3"
    },
    "language_info": {
      "name": "python"
    }
  },
  "cells": [
    {
      "cell_type": "code",
      "metadata": {
        "id": "tkaIJJVVUZuz",
        "colab": {
          "base_uri": "https://localhost:8080/"
        },
        "outputId": "fa8bc66b-bb27-4181-a162-cc51a96bf73d"
      },
      "source": [
        "#python program to generate md5 of string data (string - hexadecimal)\n",
        "\n",
        "import hashlib\n",
        "#initializing string\n",
        "str2hash = \"Gopisetty Nagendra\"\n",
        "# encoding the Gopisetty Nagendra using encode() and then sending to md5()\n",
        "result = hashlib.md5(str2hash.encode())\n",
        "#print the equivivalent hexadecimal value generating from string \n",
        "print(\"The hexa decimal equivivalent of hash is:\",end=\"\")\n",
        "print(result.hexdigest())"
      ],
      "execution_count": 1,
      "outputs": [
        {
          "output_type": "stream",
          "text": [
            "The hexa decimal equivivalent of hash is:f9a066449a6b4b3226e2f6e6d35a16a0\n"
          ],
          "name": "stdout"
        }
      ]
    }
  ]
}